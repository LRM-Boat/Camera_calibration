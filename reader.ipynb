{
 "cells": [
  {
   "cell_type": "code",
   "execution_count": 5,
   "metadata": {},
   "outputs": [
    {
     "name": "stdout",
     "output_type": "stream",
     "text": [
      "(array([[1.61287869e+03, 0.00000000e+00, 1.03519502e+03],\n",
      "       [0.00000000e+00, 1.61222635e+03, 7.80026299e+02],\n",
      "       [0.00000000e+00, 0.00000000e+00, 1.00000000e+00]]), array([[-3.68197242e-01,  2.06840303e-01, -2.25116252e-04,\n",
      "        -5.42849986e-04, -7.77276253e-02]]))\n"
     ]
    }
   ],
   "source": [
    "import pickle\n",
    "\n",
    "# Замените 'your_file.pkl' на путь к вашему .pkl файлу\n",
    "file_path = 'calibration4.pkl'\n",
    "\n",
    "# Открываем файл в бинарном режиме для чтения\n",
    "with open(file_path, 'rb') as file:\n",
    "    # Загружаем объект из файла\n",
    "    data = pickle.load(file)\n",
    "\n",
    "# Выводим содержимое\n",
    "print(data)"
   ]
  },
  {
   "cell_type": "code",
   "execution_count": 3,
   "metadata": {},
   "outputs": [
    {
     "name": "stdout",
     "output_type": "stream",
     "text": [
      "[[1.64808815e+03 0.00000000e+00 1.04233398e+03]\n",
      " [0.00000000e+00 1.64743756e+03 7.84344865e+02]\n",
      " [0.00000000e+00 0.00000000e+00 1.00000000e+00]]\n"
     ]
    }
   ],
   "source": [
    "import pickle\n",
    "\n",
    "# Замените 'your_file.pkl' на путь к вашему .pkl файлу\n",
    "file_path = 'cameraMatrix.pkl'\n",
    "\n",
    "# Открываем файл в бинарном режиме для чтения\n",
    "with open(file_path, 'rb') as file:\n",
    "    # Загружаем объект из файла\n",
    "    data = pickle.load(file)\n",
    "\n",
    "# Выводим содержимое\n",
    "print(data)"
   ]
  },
  {
   "cell_type": "code",
   "execution_count": 4,
   "metadata": {},
   "outputs": [
    {
     "name": "stdout",
     "output_type": "stream",
     "text": [
      "[[-3.78807221e-01  2.15809066e-01 -2.90376958e-04 -2.09188871e-04\n",
      "  -7.80538177e-02]]\n"
     ]
    }
   ],
   "source": [
    "import pickle\n",
    "\n",
    "# Замените 'your_file.pkl' на путь к вашему .pkl файлу\n",
    "file_path = 'dist.pkl'\n",
    "\n",
    "# Открываем файл в бинарном режиме для чтения\n",
    "with open(file_path, 'rb') as file:\n",
    "    # Загружаем объект из файла\n",
    "    data = pickle.load(file)\n",
    "\n",
    "# Выводим содержимое\n",
    "print(data)"
   ]
  }
 ],
 "metadata": {
  "kernelspec": {
   "display_name": "fusion",
   "language": "python",
   "name": "python3"
  },
  "language_info": {
   "codemirror_mode": {
    "name": "ipython",
    "version": 3
   },
   "file_extension": ".py",
   "mimetype": "text/x-python",
   "name": "python",
   "nbconvert_exporter": "python",
   "pygments_lexer": "ipython3",
   "version": "3.8.0"
  }
 },
 "nbformat": 4,
 "nbformat_minor": 2
}
